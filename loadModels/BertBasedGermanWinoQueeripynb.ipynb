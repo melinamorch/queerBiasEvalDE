{
  "nbformat": 4,
  "nbformat_minor": 0,
  "metadata": {
    "colab": {
      "provenance": []
    },
    "kernelspec": {
      "name": "python3",
      "display_name": "Python 3"
    },
    "language_info": {
      "name": "python"
    }
  },
  "cells": [
    {
      "cell_type": "code",
      "execution_count": null,
      "metadata": {
        "id": "FSSCVh4K3Y3s"
      },
      "outputs": [],
      "source": [
        "!pip install transformers torch pandas tqdm"
      ]
    },
    {
      "cell_type": "code",
      "source": [
        "from transformers import AutoTokenizer, AutoModelForMaskedLM\n",
        "\n",
        "# Download German BERT from HuggingFace\n",
        "model_name = \"bert-base-german-cased\"\n",
        "\n",
        "tokenizer = AutoTokenizer.from_pretrained(model_name)\n",
        "model = AutoModelForMaskedLM.from_pretrained(model_name)\n",
        "\n",
        "# Save it locally inside the working directory\n",
        "model.save_pretrained(\"german_bert\")  # Saves config.json, pytorch_model.bin, etc.\n",
        "tokenizer.save_pretrained(\"german_bert\")\n"
      ],
      "metadata": {
        "id": "rN9JweaO3dQ6"
      },
      "execution_count": null,
      "outputs": []
    },
    {
      "cell_type": "code",
      "source": [
        "!python metric.py \\\n",
        "  --input_file winoqueerDE.csv \\\n",
        "  --lm_model_path german_bert \\\n",
        "  --output_file results_bertDE.csv \\\n",
        "  --summary_file summary_bertDE.txt"
      ],
      "metadata": {
        "id": "h7yLPaaz3f41"
      },
      "execution_count": null,
      "outputs": []
    }
  ]
}